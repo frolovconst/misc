{
 "cells": [
  {
   "cell_type": "code",
   "execution_count": 3,
   "metadata": {},
   "outputs": [
    {
     "data": {
      "text/plain": [
       "[<matplotlib.lines.Line2D at 0x7fe37a476f98>]"
      ]
     },
     "execution_count": 3,
     "metadata": {},
     "output_type": "execute_result"
    },
    {
     "data": {
      "image/png": "[encoded data removed]",
      "text/plain": [
       "<Figure size 432x288 with 1 Axes>"
      ]
     },
     "metadata": {},
     "output_type": "display_data"
    }
   ],
   "source": [
    "import matplotlib.pyplot as plt\n",
    "import numpy as np\n",
    "\n",
    "plt.plot((np.arange(24)+1), 310*1.03**(np.arange(24)+1))\n",
    "plt.plot((np.arange(24)+1), 28*(np.arange(24)+1))"
   ]
  },
  {
   "cell_type": "code",
   "execution_count": 106,
   "metadata": {},
   "outputs": [
    {
     "data": {
      "text/plain": [
       "1.1040808032"
      ]
     },
     "execution_count": 106,
     "metadata": {},
     "output_type": "execute_result"
    }
   ],
   "source": [
    "1.02**5"
   ]
  },
  {
   "cell_type": "code",
   "execution_count": 111,
   "metadata": {},
   "outputs": [
    {
     "name": "stdout",
     "output_type": "stream",
     "text": [
      "period= 0\n",
      "return1 = -500\n",
      "return2 = -280\n",
      "\n",
      "period= 3\n",
      "return1 = -362.5456999999999\n",
      "return2 = -194.79999999999998\n",
      "\n",
      "period= 6\n",
      "return1 = -217.35293312389967\n",
      "return2 = -109.59999999999997\n",
      "\n",
      "period= 9\n",
      "return1 = -63.704134553679296\n",
      "return2 = -24.399999999999956\n",
      "\n",
      "period= 12\n",
      "return1 = 99.1847981615615\n",
      "return2 = 60.80000000000004\n",
      "\n",
      "period= 15\n",
      "return1 = 272.17067494068874\n",
      "return2 = 146.00000000000006\n",
      "\n",
      "period= 18\n",
      "return1 = 456.18975511591407\n",
      "return2 = 231.20000000000007\n",
      "\n",
      "period= 21\n",
      "return1 = 652.2651145385473\n",
      "return2 = 316.40000000000003\n",
      "\n",
      "period= 24\n",
      "return1 = 861.5146958143634\n",
      "return2 = 401.59999999999997\n",
      "\n",
      "period= 27\n",
      "return1 = 1085.1601050131421\n",
      "return2 = 486.7999999999999\n",
      "\n",
      "period= 30\n",
      "return1 = 1324.5362240706959\n",
      "return2 = 571.9999999999999\n",
      "\n",
      "period= 33\n",
      "return1 = 1581.1017145200994\n",
      "return2 = 657.1999999999998\n",
      "\n",
      "period= 36\n",
      "return1 = 1856.4504952024054\n",
      "return2 = 742.3999999999997\n",
      "\n",
      "period= 39\n",
      "return1 = 2152.324284271039\n",
      "return2 = 827.5999999999997\n",
      "\n",
      "period= 42\n",
      "return1 = 2470.6263041786397\n",
      "return2 = 912.7999999999996\n",
      "\n",
      "period= 45\n",
      "return1 = 2813.4362574862125\n",
      "return2 = 997.9999999999995\n",
      "\n",
      "period= 48\n",
      "return1 = 3183.0266913341375\n",
      "return2 = 1083.1999999999994\n",
      "\n",
      "period= 51\n",
      "return1 = 3581.8808793414787\n",
      "return2 = 1168.3999999999996\n",
      "\n",
      "period= 54\n",
      "return1 = 4012.712361640177\n",
      "return2 = 1253.6\n",
      "\n",
      "period= 57\n",
      "return1 = 4478.486296797986\n",
      "return2 = 1338.8000000000002\n",
      "\n"
     ]
    }
   ],
   "source": [
    "step=3\n",
    "for period in range(0, 60, step):\n",
    "    print('period=', period)\n",
    "    start1 = 900\n",
    "    start2 = 0\n",
    "    debt1 = 1400\n",
    "    debt2 = 280\n",
    "    rate = 1.03\n",
    "#     period = 12\n",
    "    for i in range(period):\n",
    "        start1 *= rate\n",
    "        start2 += 1.5\n",
    "#         start2 *= 1.01\n",
    "        debt1 -= 18\n",
    "        debt2 -= 26.9\n",
    "#     print(debt1)\n",
    "#         print(debt2)\n",
    "    print('return1 =', start1-min(debt1, 1400))\n",
    "    print('return2 =', start2-min(debt2, 280))\n",
    "    print()"
   ]
  },
  {
   "cell_type": "code",
   "execution_count": 91,
   "metadata": {},
   "outputs": [],
   "source": [
    "share = 87.8\n",
    "rate = 654\n",
    "total = 17"
   ]
  },
  {
   "cell_type": "code",
   "execution_count": 94,
   "metadata": {},
   "outputs": [
    {
     "name": "stdout",
     "output_type": "stream",
     "text": [
      "976160.3999999999\n",
      "profit = 1084.6226666666666\n",
      "207.40000000000003\n",
      "1492.6\n"
     ]
    }
   ],
   "source": [
    "current = share*rate*total\n",
    "profit = current/900 #TODO\n",
    "print(current)\n",
    "print('profit =', profit)\n",
    "print((100-share)*total)\n",
    "print((share)*total)"
   ]
  },
  {
   "cell_type": "code",
   "execution_count": 28,
   "metadata": {},
   "outputs": [],
   "source": [
    "def get_remaining(start, period, monthly, rate):\n",
    "    monthly_rate = rate / 12\n",
    "    for i in range(period):\n",
    "        start *= (100 + monthly_rate) / 100\n",
    "        start = start - monthly\n",
    "    return start"
   ]
  },
  {
   "cell_type": "code",
   "execution_count": 90,
   "metadata": {},
   "outputs": [
    {
     "data": {
      "text/plain": [
       "-444.904198234823"
      ]
     },
     "execution_count": 90,
     "metadata": {},
     "output_type": "execute_result"
    }
   ],
   "source": [
    "get_remaining(1373175, 60, 29788, 10.4)/60"
   ]
  },
  {
   "cell_type": "code",
   "execution_count": 87,
   "metadata": {},
   "outputs": [
    {
     "data": {
      "text/plain": [
       "-189705.36430096554"
      ]
     },
     "execution_count": 87,
     "metadata": {},
     "output_type": "execute_result"
    }
   ],
   "source": [
    "get_remaining(1800000, 60, 39000, 7.9)"
   ]
  },
  {
   "cell_type": "code",
   "execution_count": 98,
   "metadata": {},
   "outputs": [
    {
     "data": {
      "text/plain": [
       "1.6555555555555554"
      ]
     },
     "execution_count": 98,
     "metadata": {},
     "output_type": "execute_result"
    }
   ],
   "source": [
    "((60*30-1210) + 900)/900"
   ]
  }
 ],
 "metadata": {
  "kernelspec": {
   "display_name": "Python 3",
   "language": "python",
   "name": "python3"
  },
  "language_info": {
   "codemirror_mode": {
    "name": "ipython",
    "version": 3
   },
   "file_extension": ".py",
   "mimetype": "text/x-python",
   "name": "python",
   "nbconvert_exporter": "python",
   "pygments_lexer": "ipython3",
   "version": "3.6.3"
  }
 },
 "nbformat": 4,
 "nbformat_minor": 2
}
