{
 "cells": [
  {
   "cell_type": "code",
   "execution_count": 1,
   "metadata": {},
   "outputs": [
    {
     "name": "stderr",
     "output_type": "stream",
     "text": [
      "Using TensorFlow backend.\n"
     ]
    }
   ],
   "source": [
    "from nltk.tokenize import WordPunctTokenizer\n",
    "from subword_nmt.learn_bpe import learn_bpe\n",
    "from subword_nmt.apply_bpe import BPE\n",
    "import numpy as np\n",
    "import matplotlib.pyplot as plt\n",
    "%matplotlib inline\n",
    "from sklearn.model_selection import train_test_split\n",
    "from utils import Vocab, infer_length, infer_mask, select_values_over_last_axis\n",
    "import tensorflow as tf\n",
    "import keras.layers as L\n",
    "from nltk.translate.bleu_score import corpus_bleu\n",
    "from IPython.display import clear_output\n",
    "from tqdm import tqdm, trange"
   ]
  },
  {
   "cell_type": "markdown",
   "metadata": {},
   "source": [
    "# Remove non-utf characters from data"
   ]
  },
  {
   "cell_type": "code",
   "execution_count": 2,
   "metadata": {},
   "outputs": [],
   "source": [
    "def read_data(path):\n",
    "    with open(path, 'rb',) as file: # encoding='utf-8'\n",
    "        for line in file:\n",
    "            yield line\n",
    "\n",
    "orig_data = read_data('../data/OliverTwist.txt')\n",
    "\n",
    "with open('../data/data_parts/out', 'wb') as out_f:\n",
    "    for l in orig_data:\n",
    "        if not l[0]==13:\n",
    "            out_f.write(l)\n",
    "\n",
    "with open('../data/data_parts/out_utf', 'w', encoding='utf-8') as out_f:\n",
    "    with open('../data/data_parts/out', 'rb') as f:\n",
    "        for line in f:\n",
    "            out_f.write(str(line.decode('utf-8','ignore'))) #.encode(\"utf-8\")))"
   ]
  },
  {
   "cell_type": "markdown",
   "metadata": {},
   "source": [
    "# Show the first 5 paragraphs"
   ]
  },
  {
   "cell_type": "code",
   "execution_count": 3,
   "metadata": {},
   "outputs": [
    {
     "name": "stdout",
     "output_type": "stream",
     "text": [
      "CHAPTER I\n",
      "\n",
      "TREATS OF THE PLACE WHERE OLIVER TWIST WAS BORN\n",
      "\n",
      "AND OF THE CIRCUMSTANCES ATTENDING HIS BIRTH\n",
      "\n",
      "Among other public buildings in a certain town, which for many reasons it will be prudent to refrain from mentioning, and to which I will assign no fictitious name, there is one anciently common to most towns, great or small: to wit, a workhouse; and in this workhouse was born; on a day and date which I need not trouble myself to repeat, inasmuch as it can be of no possible consequence to the reader, in this stage of the business at all events; the item of mortality whose name is prefixed to the head of this chapter.\n",
      "\n",
      "For a long time after it was ushered into this world of sorrow and trouble, by the parish surgeon, it remained a matter of considerable doubt whether the child would survive to bear any name at all; in which case it is somewhat more than probable that these memoirs would never have appeared; or, if they had, that being comprised within a couple of pages, they would have possessed the inestimable merit of being the most concise and faithful specimen of biography, extant in the literature of any age or country.\n",
      "\n",
      "Although I am not disposed to maintain that the being born in a workhouse, is in itself the most fortunate and enviable circumstance that can possibly befall a human being, I do mean to say that in this particular instance, it was the best thing for Oliver Twist that could by possibility have occurred. The fact is, that there was considerable difficulty in inducing Oliver to take upon himself the office of respiration,a troublesome practice, but one which custom has rendered necessary to our easy existence; and for some time he lay gasping on a little flock mattress, rather unequally poised between this world and the next: the balance being decidedly in favour of the latter. Now, if, during this brief period, Oliver had been surrounded by careful grandmothers, anxious aunts, experienced nurses, and doctors of profound wisdom, he would most inevitably and indubitably have been killed in no time. There being nobody by, however, but a pauper old woman, who was rendered rather misty by an unwonted allowance of beer; and a parish surgeon who did such matters by contract; Oliver and Nature fought out the point between them. The result was, that, after a few struggles, Oliver breathed, sneezed, and proceeded to advertise to the inmates of the workhouse the fact of a new burden having been imposed upon the parish, by setting up as loud a cry as could reasonably have been expected from a male infant who had not been possessed of that very useful appendage, a voice, for a much longer space of time than three minutes and a quarter.\n",
      "\n"
     ]
    }
   ],
   "source": [
    "count = 0\n",
    "with open('../data/data_parts/out_utf', 'r', encoding='utf-8') as f:\n",
    "    for line in f:\n",
    "        print(line)\n",
    "        count += 1\n",
    "        if count>5:\n",
    "            break"
   ]
  },
  {
   "cell_type": "code",
   "execution_count": 4,
   "metadata": {},
   "outputs": [],
   "source": [
    "tokenizer = WordPunctTokenizer()\n",
    "def tokenize(x):\n",
    "    return ' '.join(tokenizer.tokenize(x.lower()))"
   ]
  },
  {
   "cell_type": "code",
   "execution_count": 5,
   "metadata": {},
   "outputs": [],
   "source": [
    "# split and tokenize the data\n",
    "with open('../data/tokenized', 'w', encoding='utf-8') as f_src:\n",
    "    for line in open('../data/data_parts/out_utf', encoding='utf-8'):\n",
    "        f_src.write(tokenize(line) + '\\n')"
   ]
  },
  {
   "cell_type": "code",
   "execution_count": 6,
   "metadata": {},
   "outputs": [],
   "source": [
    "# build and apply bpe vocs\n",
    "learn_bpe(open('../data/tokenized', encoding='utf-8'), open('../data/bpe_rules.en', 'w', encoding='utf-8'), num_symbols=8000)\n",
    "bpe = BPE(open('../data/bpe_rules.en', encoding='utf-8'))\n",
    "\n",
    "with open('../data/tokenized.bpe', 'w', encoding='utf-8') as f_out:\n",
    "    for line in open('../data/tokenized', encoding='utf-8'):\n",
    "        f_out.write(bpe.process_line(line.strip()) + '\\n')"
   ]
  },
  {
   "cell_type": "code",
   "execution_count": 7,
   "metadata": {},
   "outputs": [
    {
     "name": "stdout",
     "output_type": "stream",
     "text": [
      "chapter i\n",
      "\n",
      "treats of the place where oliver twist was born\n",
      "\n",
      "and of the circumstances atten@@ ding his birth\n",
      "\n",
      "among other public buildings in a certain town , which for many reasons it will be prudent to ref@@ rain from menti@@ oning , and to which i will assi@@ gn no fi@@ ct@@ itious name , there is one an@@ ci@@ ently common to most to@@ wn@@ s , great or small : to w@@ it , a workhouse ; and in this workhouse was born ; on a day and date which i need not trouble myself to repeat , inasmuch as it can be of no possible consequence to the reader , in this stage of the business at all events ; the it@@ em of mor@@ tality whose name is pre@@ fixed to the head of this chapter .\n",
      "\n",
      "for a long time after it was ushered into this world of sorrow and trouble , by the parish surgeon , it remained a matter of considerable doubt whether the child would sur@@ vive to bear any name at all ; in which case it is somewhat more than probable that these me@@ mo@@ irs would never have appeared ; or , if they had , that being comp@@ ri@@ sed within a couple of pages , they would have possessed the ine@@ sti@@ ma@@ ble mer@@ it of being the most con@@ cise and faithful speci@@ men of bi@@ o@@ gra@@ ph@@ y , ext@@ ant in the liter@@ ature of any age or country .\n",
      "\n",
      "although i am not disposed to main@@ tain that the being born in a workhouse , is in itself the most fortunate and en@@ vi@@ able circumstance that can possibly be@@ fall a human being , i do mean to say that in this particular instance , it was the best thing for oliver twist that could by possibility have occurred . the fact is , that there was considerable difficulty in indu@@ cing oliver to take upon himself the office of re@@ spiration , a troublesome practice , but one which custom has rendered necessary to our easy existence ; and for some time he lay gasping on a little flo@@ ck mattress , rather unequ@@ ally poi@@ sed between this world and the next : the balance being decidedly in favour of the latter . now , if , during this brief period , oliver had been surrounded by careful grand@@ mothers , anxious a@@ unts , experienced nur@@ ses , and doctors of profound wisdom , he would most in@@ ev@@ it@@ ably and indu@@ bit@@ ably have been killed in no time . there being nobody by , however , but a pauper old woman , who was rendered rather mi@@ sty by an unwonted allowance of beer ; and a parish surgeon who did such matters by contract ; oliver and nature fought out the point between them . the result was , that , after a few struggles , oliver breathed , snee@@ zed , and proceeded to adverti@@ se to the inmates of the workhouse the fact of a new bur@@ den having been imposed upon the parish , by setting up as loud a cry as could reason@@ ably have been expected from a male infant who had not been possessed of that very useful app@@ end@@ age , a voice , for a much longer space of time than three minutes and a quarter .\n",
      "\n"
     ]
    }
   ],
   "source": [
    "head=5\n",
    "i=0\n",
    "with open('../data/tokenized.bpe', encoding='utf-8') as f:\n",
    "    for l in f:\n",
    "        print(l)\n",
    "        i += 1\n",
    "        if i>head:\n",
    "            break"
   ]
  },
  {
   "cell_type": "code",
   "execution_count": 8,
   "metadata": {},
   "outputs": [
    {
     "name": "stdout",
     "output_type": "stream",
     "text": [
      "inp: chapter i\n",
      "\n",
      "inp: treats of the place where oliver twist was born\n",
      "\n",
      "inp: and of the circumstances atten@@ ding his birth\n",
      "\n"
     ]
    }
   ],
   "source": [
    "data_inp = np.array(open('../data/tokenized.bpe', encoding='utf-8').read().split('\\n'))\n",
    "\n",
    "for i in range(3):\n",
    "    print('inp:', data_inp[i], end='\\n\\n')"
   ]
  },
  {
   "cell_type": "code",
   "execution_count": 9,
   "metadata": {},
   "outputs": [],
   "source": [
    "train_inp, dev_inp = train_test_split(data_inp, test_size=400, random_state=42)"
   ]
  },
  {
   "cell_type": "code",
   "execution_count": 10,
   "metadata": {},
   "outputs": [],
   "source": [
    "inp_voc = Vocab.from_lines(train_inp)"
   ]
  },
  {
   "cell_type": "code",
   "execution_count": 11,
   "metadata": {},
   "outputs": [
    {
     "data": {
      "image/png": "[encoded data removed]",
      "text/plain": [
       "<Figure size 576x288 with 1 Axes>"
      ]
     },
     "metadata": {},
     "output_type": "display_data"
    }
   ],
   "source": [
    "plt.figure(figsize=[8, 4])\n",
    "plt.title(\"source length\")\n",
    "plt.hist(list(map(len, map(str.split, data_inp))), bins=20);"
   ]
  },
  {
   "cell_type": "code",
   "execution_count": 12,
   "metadata": {},
   "outputs": [],
   "source": [
    "class BasicModel:\n",
    "    def __init__(self, name, inp_voc, emb_size=64, hid_size=128):\n",
    "        \"\"\"\n",
    "        A simple encoder- oder model\n",
    "        \"\"\"\n",
    "        self.name, self.inp_voc = name, inp_voc\n",
    "\n",
    "        with tf.variable_scope(name):\n",
    "            self.emb_inp = L.Embedding(len(inp_voc), emb_size)\n",
    "            self.emb_out = L.Embedding(len(inp_voc), emb_size)\n",
    "            self.enc0 = tf.nn.rnn_cell.GRUCell(hid_size)\n",
    "\n",
    "            self.dec_start = L.Dense(hid_size)\n",
    "            self.dec0 = tf.nn.rnn_cell.GRUCell(hid_size)\n",
    "            self.logits = L.Dense(len(inp_voc))\n",
    "\n",
    "            # prepare to translate_lines\n",
    "            self.inp = tf.placeholder('int32', [None, None])\n",
    "            self.initial_state = self.prev_state = self.encode(self.inp)\n",
    "            self.prev_tokens = tf.placeholder('int32', [None])\n",
    "            self.next_state, self.next_logits = self.decode(self.prev_state, self.prev_tokens)\n",
    "        \n",
    "        self.weights = tf.get_collection(tf.GraphKeys.TRAINABLE_VARIABLES, scope=name)\n",
    "\n",
    "    def encode(self, inp, **flags):\n",
    "        \"\"\"\n",
    "        Takes symbolic input sequence, computes initial state\n",
    "        :param inp: matrix of input tokens [batch, time]\n",
    "        :returns: initial decoder state tensors, one or many\n",
    "        \"\"\"\n",
    "        inp_lengths = infer_length(inp, self.inp_voc.eos_ix)\n",
    "        inp_emb = self.emb_inp(inp)\n",
    "        with tf.variable_scope('enc0'):\n",
    "            _, enc_last = tf.nn.dynamic_rnn(\n",
    "                              self.enc0, inp_emb,\n",
    "                              sequence_length=inp_lengths,\n",
    "                              dtype = inp_emb.dtype)\n",
    "        dec_start = self.dec_start(enc_last)\n",
    "        return [dec_start]\n",
    "\n",
    "    def decode(self, prev_state, prev_tokens, **flags):\n",
    "        \"\"\"\n",
    "        Takes previous decoder state and tokens, returns new state and logits for next tokens\n",
    "        :param prev_state: a list of previous decoder state tensors\n",
    "        :param prev_tokens: previous output tokens, an int vector of [batch_size]\n",
    "        :return: a list of next decoder state tensors, a tensor of logits [batch, n_tokens]\n",
    "        \"\"\"\n",
    "        [prev_dec] = prev_state\n",
    "        prev_emb = self.emb_out(prev_tokens[:,None])[:,0]\n",
    "        with tf.variable_scope('dec0'):\n",
    "            new_dec_out, new_dec_state = self.dec0(prev_emb, prev_dec)\n",
    "        output_logits = self.logits(new_dec_out)\n",
    "        return [new_dec_state], output_logits\n",
    "\n",
    "    def translate_lines(self, inp_lines, max_len=5000):\n",
    "        \"\"\"\n",
    "        Translates a list of lines by greedily selecting most likely next token at each step\n",
    "        :returns: a list of output lines, a sequence of model states at each step\n",
    "        \"\"\"\n",
    "        state = sess.run(self.initial_state, {self.inp: inp_voc.to_matrix(inp_lines)})\n",
    "        outputs = [[self.inp_voc.bos_ix] for _ in range(len(inp_lines))]\n",
    "        all_states = [state]\n",
    "        finished = [False] * len(inp_lines)\n",
    "\n",
    "        for t in range(max_len):\n",
    "            state, logits = sess.run([self.next_state, self.next_logits], {**dict(zip(self.prev_state, state)),\n",
    "                                           self.prev_tokens: [out_i[-1] for out_i in outputs]})\n",
    "            next_tokens = np.argmax(logits, axis=-1)\n",
    "            all_states.append(state)\n",
    "            for i in range(len(next_tokens)):\n",
    "                outputs[i].append(next_tokens[i])\n",
    "                finished[i] |= next_tokens[i] == self.inp_voc.eos_ix\n",
    "        return inp_voc.to_lines(outputs), all_states\n",
    "    \n",
    "        "
   ]
  },
  {
   "cell_type": "code",
   "execution_count": 13,
   "metadata": {},
   "outputs": [],
   "source": [
    "tf.reset_default_graph()\n",
    "sess = tf.InteractiveSession()\n",
    "\n",
    "model = BasicModel('model', inp_voc)\n",
    "sess.run(tf.global_variables_initializer())"
   ]
  },
  {
   "cell_type": "code",
   "execution_count": 14,
   "metadata": {},
   "outputs": [],
   "source": [
    "def compute_logits(model, inp, out, **flags):\n",
    "    \"\"\"\n",
    "    :param inp: input tokens matrix, int32[batch, time]\n",
    "    :param out: reference tokens matrix, int32[batch, time]\n",
    "    :returns: logits of shape [batch, time, voc_size]\n",
    "    \n",
    "    * logits must be a linear output of your neural network.\n",
    "    * logits [:, 0, :] should always predic BOS\n",
    "    * logits [:, -1, :] should be probabilities of last token in out\n",
    "    This function should NOT return logits predicted when taking out[:, -1] as y_prev\n",
    "    \"\"\"\n",
    "    batch_size = tf.shape(inp)[0]\n",
    "    \n",
    "    # Encode inp, get initial state\n",
    "    first_state = model.encode(inp)\n",
    "    \n",
    "    # initial logits: always predict BOS\n",
    "    first_logits = tf.log(tf.one_hot(tf.fill([batch_size], model.inp_voc.bos_ix),\n",
    "                                     len(model.inp_voc)) + 1e-30)\n",
    "    \n",
    "    # Decode step\n",
    "    def step(blob, y_prev):\n",
    "        # Given previous state, obtain next state and next token logits\n",
    "        prev_state, _ = blob\n",
    "        state, logits = model.decode(prev_state, y_prev)\n",
    "        return (state, logits)\n",
    "\n",
    "    _, logits_seq = tf.scan(step,\n",
    "           elems=tf.transpose(out),\n",
    "           initializer=(first_state, first_logits)\n",
    "           )\n",
    "    \n",
    "    \n",
    "    logits_seq = tf.concat((tf.expand_dims(first_logits, axis=0), logits_seq[:-1]), axis=0)\n",
    "    \n",
    "    logits_seq = tf.transpose(logits_seq, perm=[1,0,2])\n",
    "    \n",
    "    return logits_seq"
   ]
  },
  {
   "cell_type": "code",
   "execution_count": 15,
   "metadata": {},
   "outputs": [],
   "source": [
    "def compute_loss(model, inp, out, **flags):\n",
    "    \"\"\"\n",
    "    Compute loss (float32 scalar) as in the formula above\n",
    "    :param inp: input tokens matrix, int32[batch, time]\n",
    "    :param out: reference tokens matrix, int32[batch, time]\n",
    "    \n",
    "    In order to pass the tests, your function should\n",
    "    * include loss at first EOS but not the subsequent ones\n",
    "    * divide sum of losses by a sum of input lengths (use infer_length or infer_mask)\n",
    "    \"\"\"\n",
    "    mask = infer_mask(out, inp_voc.eos_ix) \n",
    "    logits_seq = compute_logits(model, inp, out, **flags)\n",
    "    softmaxed = tf.nn.softmax(logits_seq)\n",
    "    softmaxed = select_values_over_last_axis(softmaxed, out)\n",
    "    loss = -tf.reduce_sum(tf.multiply(tf.log(softmaxed), mask))/tf.reduce_sum(mask)\n",
    "    \n",
    "    return loss"
   ]
  },
  {
   "cell_type": "code",
   "execution_count": 16,
   "metadata": {},
   "outputs": [
    {
     "ename": "NameError",
     "evalue": "name 'train_out' is not defined",
     "output_type": "error",
     "traceback": [
      "\u001b[0;31m---------------------------------------------------------------------------\u001b[0m",
      "\u001b[0;31mNameError\u001b[0m                                 Traceback (most recent call last)",
      "\u001b[0;32m<ipython-input-16-f92e3a3c1750>\u001b[0m in \u001b[0;36m<module>\u001b[0;34m()\u001b[0m\n\u001b[1;32m      1\u001b[0m \u001b[0mdummy_inp\u001b[0m \u001b[0;34m=\u001b[0m \u001b[0mtf\u001b[0m\u001b[0;34m.\u001b[0m\u001b[0mconstant\u001b[0m\u001b[0;34m(\u001b[0m\u001b[0minp_voc\u001b[0m\u001b[0;34m.\u001b[0m\u001b[0mto_matrix\u001b[0m\u001b[0;34m(\u001b[0m\u001b[0mtrain_inp\u001b[0m\u001b[0;34m[\u001b[0m\u001b[0;34m:\u001b[0m\u001b[0;36m3\u001b[0m\u001b[0;34m]\u001b[0m\u001b[0;34m)\u001b[0m\u001b[0;34m)\u001b[0m\u001b[0;34m\u001b[0m\u001b[0m\n\u001b[0;32m----> 2\u001b[0;31m \u001b[0mdummy_out\u001b[0m \u001b[0;34m=\u001b[0m \u001b[0mtf\u001b[0m\u001b[0;34m.\u001b[0m\u001b[0mconstant\u001b[0m\u001b[0;34m(\u001b[0m\u001b[0minp_voc\u001b[0m\u001b[0;34m.\u001b[0m\u001b[0mto_matrix\u001b[0m\u001b[0;34m(\u001b[0m\u001b[0mtrain_out\u001b[0m\u001b[0;34m[\u001b[0m\u001b[0;34m:\u001b[0m\u001b[0;36m3\u001b[0m\u001b[0;34m]\u001b[0m\u001b[0;34m)\u001b[0m\u001b[0;34m)\u001b[0m\u001b[0;34m\u001b[0m\u001b[0m\n\u001b[0m",
      "\u001b[0;31mNameError\u001b[0m: name 'train_out' is not defined"
     ]
    }
   ],
   "source": [
    "dummy_inp = tf.constant(inp_voc.to_matrix(train_inp[:3]))\n",
    "dummy_out = tf.constant(inp_voc.to_matrix(train_out[:3]))"
   ]
  },
  {
   "cell_type": "code",
   "execution_count": null,
   "metadata": {},
   "outputs": [],
   "source": [
    "loss = sess.run(compute_loss(model, dummy_inp, dummy_out))"
   ]
  },
  {
   "cell_type": "code",
   "execution_count": null,
   "metadata": {},
   "outputs": [],
   "source": [
    "print(loss)"
   ]
  },
  {
   "cell_type": "code",
   "execution_count": null,
   "metadata": {},
   "outputs": [],
   "source": [
    "def compute_bleu(model, inp_lines, out_lines, bpe_sep='@@ ', **flags):\n",
    "    \"\"\" Estimates corpora-level BLEU score of model's translations given inp and reference out \"\"\"\n",
    "    translations, _ = model.translate_lines(inp_lines, **flags)\n",
    "    return corpus_bleu([[ref] for ref in out_lines], translations) * 100"
   ]
  },
  {
   "cell_type": "code",
   "execution_count": 23,
   "metadata": {},
   "outputs": [
    {
     "data": {
      "text/plain": [
       "0.7987506916493159"
      ]
     },
     "execution_count": 23,
     "metadata": {},
     "output_type": "execute_result"
    }
   ],
   "source": [
    "compute_bleu(model, dev_inp, dev_out)"
   ]
  },
  {
   "cell_type": "code",
   "execution_count": 24,
   "metadata": {},
   "outputs": [],
   "source": [
    "inp = tf.placeholder('int32', [None, None])\n",
    "out = tf.placeholder('int32', [None, None])\n",
    "\n",
    "loss = compute_loss(model, inp, out)\n",
    "\n",
    "train_step = tf.train.AdamOptimizer().minimize(loss)"
   ]
  },
  {
   "cell_type": "code",
   "execution_count": 25,
   "metadata": {},
   "outputs": [],
   "source": [
    "metrics = {'train_loss': [], 'dev_bleu': [] }\n",
    "\n",
    "sess.run(tf.global_variables_initializer())\n",
    "batch_size = 32"
   ]
  },
  {
   "cell_type": "code",
   "execution_count": null,
   "metadata": {},
   "outputs": [
    {
     "data": {
      "image/png": "[encoded data removed]",
      "text/plain": [
       "<Figure size 864x288 with 2 Axes>"
      ]
     },
     "metadata": {},
     "output_type": "display_data"
    },
    {
     "name": "stdout",
     "output_type": "stream",
     "text": [
      "Mean loss=5.041\n"
     ]
    },
    {
     "name": "stderr",
     "output_type": "stream",
     "text": [
      "  3%|▎         | 691/25000 [04:24<2:34:47,  2.62it/s]"
     ]
    }
   ],
   "source": [
    "for _ in trange(25000):\n",
    "    step = len(metrics['train_loss']) + 1\n",
    "    batch_ix = np.random.randint(len(train_inp), size=batch_size)\n",
    "    feed_dict = {\n",
    "        inp: inp_voc.to_matrix(train_inp[batch_ix]),\n",
    "        out: inp_voc.to_matrix(train_inp[batch_ix]),\n",
    "    }\n",
    "    \n",
    "    loss_t, _ = sess.run([loss, train_step], feed_dict)\n",
    "    metrics['train_loss'].append((step, loss_t))\n",
    "    \n",
    "    if step % 100 == 0:\n",
    "        metrics['dev_bleu'].append((step, compute_bleu(model, dev_inp, dev_out)))\n",
    "        \n",
    "        clear_output(True)\n",
    "        plt.figure(figsize=(12,4))\n",
    "        for i, (name, history) in enumerate(sorted(metrics.items())):\n",
    "            plt.subplot(1, len(metrics), i + 1)\n",
    "            plt.title(name)\n",
    "            plt.plot(*zip(*history))\n",
    "            plt.grid()\n",
    "        plt.show()\n",
    "        print(\"Mean loss=%.3f\" % np.mean(metrics['train_loss'][-10:], axis=0)[1], flush=True)\n",
    "        "
   ]
  },
  {
   "cell_type": "code",
   "execution_count": 29,
   "metadata": {},
   "outputs": [
    {
     "data": {
      "text/plain": [
       "35.29205636075493"
      ]
     },
     "execution_count": 29,
     "metadata": {},
     "output_type": "execute_result"
    }
   ],
   "source": [
    "np.mean(metrics['dev_bleu'][-10:], axis=0)[1]"
   ]
  },
  {
   "cell_type": "code",
   "execution_count": 30,
   "metadata": {},
   "outputs": [
    {
     "data": {
      "text/plain": [
       "12498.355041491985"
      ]
     },
     "execution_count": 30,
     "metadata": {},
     "output_type": "execute_result"
    }
   ],
   "source": [
    "np.mean(metrics['train_loss'][-10:])"
   ]
  },
  {
   "cell_type": "code",
   "execution_count": 36,
   "metadata": {},
   "outputs": [
    {
     "name": "stdout",
     "output_type": "stream",
     "text": [
      "' this is a sma@@ sh ,' observed toby , biting his lips . ' there ' s more than one will go with this .'\n",
      "\n",
      "' this is the matter with something ,' said the gentleman , producing a quicker dog ; ' it ' s a very form .'\n"
     ]
    }
   ],
   "source": [
    "for inp_line, trans_line in zip(dev_inp[4::500], model.translate_lines(dev_inp[4::500])[0]):\n",
    "    print(inp_line)\n",
    "    print()\n",
    "    print(trans_line)"
   ]
  },
  {
   "cell_type": "code",
   "execution_count": 58,
   "metadata": {},
   "outputs": [],
   "source": [
    "test_inp_idx = inp_voc.to_matrix(train_inp)\n",
    "test_inp_tnsr = tf.constant(test_inp_idx)"
   ]
  },
  {
   "cell_type": "code",
   "execution_count": 59,
   "metadata": {},
   "outputs": [],
   "source": [
    "test_encoded = model.encode(test_inp_tnsr)"
   ]
  },
  {
   "cell_type": "code",
   "execution_count": 60,
   "metadata": {},
   "outputs": [],
   "source": [
    "result = sess.run(test_encoded)"
   ]
  },
  {
   "cell_type": "code",
   "execution_count": 62,
   "metadata": {},
   "outputs": [],
   "source": [
    "from sklearn.manifold import TSNE"
   ]
  },
  {
   "cell_type": "code",
   "execution_count": 63,
   "metadata": {},
   "outputs": [
    {
     "name": "stdout",
     "output_type": "stream",
     "text": [
      "CPU times: user 53.2 s, sys: 14.8 s, total: 1min 7s\n",
      "Wall time: 1min 7s\n"
     ]
    }
   ],
   "source": [
    "%%time\n",
    "tsne = TSNE(random_state=17)\n",
    "tsne_representation = tsne.fit_transform(result[0])"
   ]
  },
  {
   "cell_type": "code",
   "execution_count": 91,
   "metadata": {},
   "outputs": [
    {
     "data": {
      "image/png": "[encoded data removed]",
      "text/plain": [
       "<Figure size 432x288 with 1 Axes>"
      ]
     },
     "metadata": {},
     "output_type": "display_data"
    }
   ],
   "source": [
    "fig, ax = plt.subplots()\n",
    "ax.scatter(tsne_representation[:, 0], tsne_representation[:, 1]);"
   ]
  },
  {
   "cell_type": "code",
   "execution_count": 118,
   "metadata": {},
   "outputs": [
    {
     "data": {
      "image/png": "[encoded data removed]",
      "text/plain": [
       "<Figure size 432x288 with 1 Axes>"
      ]
     },
     "metadata": {},
     "output_type": "display_data"
    }
   ],
   "source": [
    "lb=0\n",
    "rb=100\n",
    "fig, ax = plt.subplots()\n",
    "ax.scatter(tsne_representation[lb:rb, 0], tsne_representation[lb:rb, 1]);\n",
    "for i, ix in enumerate(range(lb, rb)):\n",
    "    ax.annotate(ix, (tsne_representation[i, 0], tsne_representation[i, 1]))"
   ]
  },
  {
   "cell_type": "code",
   "execution_count": 119,
   "metadata": {},
   "outputs": [
    {
     "name": "stdout",
     "output_type": "stream",
     "text": [
      "' sum@@ mar@@ ily ,' replied mr . fang . ' he stands committed for three mon@@ th@@ shar@@ d labour of course . clear the office .'\n",
      "\n"
     ]
    }
   ],
   "source": [
    "print(train_inp[8], end='\\n\\n')"
   ]
  },
  {
   "cell_type": "code",
   "execution_count": 121,
   "metadata": {},
   "outputs": [
    {
     "name": "stdout",
     "output_type": "stream",
     "text": [
      "again mr . brownlow nodded to mr . grimwig ; and again that gentleman limped away with extraordinary readiness . but not again did he return with a stout man and wife ; for this time , he led in two pal@@ sied women , who shook and tottered as they walked .\n",
      "\n",
      "assi@@ sting oliver to rise , the young gentleman took him to an ad@@ jac@@ ent ch@@ and@@ ler ' s shop , where he purchased a sufficiency of ready - dressed ham and a half - quartern loaf , or , as he himself expressed it , ' a four@@ penny br@@ an !' the ham being kept clean and preserved from dust , by the ingenious expedient of making a hole in the loaf by pulling out a portion of the cru@@ mb , and stu@@ ff@@ ing it therein . taking the bread under his arm , the young gentlman turned into a small public - house , and led the way to a tap - room in the rear of the premises . here , a pot of beer was brought in , by direction of the mysterious youth ; and oliver , falling to , at his new friend ' s bidding , made a long and hearty meal , during the progress of which the strange boy eyed him from time to time with great attention .\n",
      "\n",
      "they walked on , for some time , through the most crowded and den@@ sely inhabited part of the town ; and then , striking down a narrow street more dirty and miserable than any they had yet passed through , paused to look for the house which was the object of their search . the houses on either side were high and large , but very old , and tenanted by people of the poorest class : as their neglected appearance would have sufficiently deno@@ ted , without the con@@ current testimony afforded by the squalid looks of the few men and women who , with folded arms and bodies half doub@@ led , occasionally skulked along . a great many of the tenements had shop - fron@@ ts ; but these were fast closed , and m@@ oul@@ dering away ; only the upper rooms being inhabited . some houses which had become in@@ secure from age and deca@@ y , were prevented from falling into the street , by huge beams of wood re@@ ared against the walls , and firmly planted in the road ; but even these crazy dens seemed to have been selected as the ni@@ ghtly haunts of some house@@ less wretches , for many of the rough boards which supplied the place of door and window , were wrenched from their positions , to afford an aperture wide enough for the passage of a human body . the kennel was st@@ agn@@ ant and filthy . the very r@@ ats , which here and there lay p@@ ut@@ ref@@ ying in its ro@@ t@@ ten@@ ness , were hideous with fa@@ mine .\n",
      "\n",
      "' he gets worse instead of better , i think ,' said the elder lady .\n",
      "\n",
      "' ah !' said mr . bumble , when the lady brought her eyes down to earth again ; ' the only thing that can be done now , that i know of , is to leave him in the cellar for a day or so , till he ' s a little starved down ; and then to take him out , and keep him on gruel all through the appren@@ ti@@ ce@@ ship . he comes of a bad family . excitable nat@@ ures , mrs . sowerberry ! both the nurse and doctor said , that that mother of his made her way here , against difficulties and pain that would have killed any well - disposed woman , weeks before .'\n",
      "\n",
      "oliver , who watched the old lady anxiously , observed that she was alarmed by these appearances ; and so in truth , was he ; but seeing that she affected to make light of them , he endeavoured to do the same , and they so far succeeded , that when rose was persuaded by her aunt to retire for the night , she was in better spirits ; and appeared even in better health : assur@@ ing them that she felt certain she should rise in the morning , quite well .\n",
      "\n",
      "the doctor seemed especially troubled by the fact of the robbery having been unexpected , and attempted in the night - time ; as if it were the established custom of gentlemen in the housebreaking way to tran@@ sa@@ ct business at noon , and to make an appointment , by post , a day or two previous .\n",
      "\n",
      "' and make your for@@ tun ' out of hand ?' added the dodger , with a grin .\n",
      "\n"
     ]
    }
   ],
   "source": [
    "for ix in [5,42,50,57,16,35,72,15]:\n",
    "    print(train_inp[ix], end='\\n\\n')"
   ]
  },
  {
   "cell_type": "code",
   "execution_count": 122,
   "metadata": {},
   "outputs": [
    {
     "name": "stdout",
     "output_type": "stream",
     "text": [
      "' there ' s somebody to speak to there , at all event ,' he thought . ' a good hiding - place , too . they ' ll never expect to na@@ b me there , after this country scent . why can ' t i lie by for a week or so , and , forcing blunt from fagin , get abroad to fr@@ ance ? damme , i ' ll risk it .'\n",
      "\n",
      "mrs . bumble , seeing at a glance , that the deci@@ sive moment had now arrived , and that a blow struck for the master@@ ship on one side or other , must necess@@ arily be final and conclu@@ sive , no sooner heard this allusion to the dead and gone , than she dropped into a chair , and with a loud scream that mr . bumble was a hard - hearted brute , fell into a paroxysm of tears .\n",
      "\n",
      "' yes , yes !' interposed the jew , drawing up his chair .\n",
      "\n",
      "now , mrs . corney that was , had tried the tears , because they were less troublesome than a manu@@ al assa@@ ult ; but , she was quite prepared to make trial of the latter mode of proceeding , as mr . bumble was not long in discovering .\n",
      "\n",
      "' they fired and hit the boy . we cut over the fields at the back , with him between u@@ s@@ straight as the c@@ row f@@ lie@@ s@@ through hedge and ditch . they gave chase . damme ! the whole country was awake , and the dogs upon us .'\n",
      "\n",
      "if i wanted any further proof of the strictly philosophical nature of the conduct of these young gentlemen in their very delicate predi@@ ca@@ ment , i should at once find it in the fact ( also recorded in a foregoing part of this narrative ), of their qu@@ itting the pursuit , when the general attention was fixed upon oliver ; and making immediately for their home by the shor@@ test possible cut . although i do not mean to asser@@ t that it is usually the practice of re@@ no@@ wned and lear@@ ned sages , to shor@@ ten the road to any great conclusion ( their course indeed being rather to leng@@ then the distance , by various circum@@ lo@@ cu@@ tions and disc@@ ur@@ sive stagg@@ er@@ ings , like unto those in which drunken men under the pressure of a too mighty flow of ideas , are pr@@ one to indul@@ ge ); still , i do mean to say , and do say distinctly , that it is the invari@@ able practice of many mighty philosophers , in carrying out their the@@ or@@ ies , to evin@@ ce great wisdom and fore@@ sight in provi@@ ding against every possible cont@@ ingen@@ cy which can be supposed at all likely to af@@ fect themselves . thus , to do a great right , you may do a little wrong ; and you may take any means which the end to be attained , will justi@@ fy ; the amount of the right , or the amount of the wrong , or indeed the distinction between the two , being left entirely to the philosopher concerned , to be settled and determined by his clear , comprehensive , and impar@@ tial view of his own particular case .\n",
      "\n",
      "' do you hear the gentleman , charlotte ?' thundered mr . claypole .\n",
      "\n",
      "' what ?' inquired oliver .\n",
      "\n",
      "' nothing ,' replied mrs . corney . ' i am a foolish , excitable , weak creetur .'\n",
      "\n"
     ]
    }
   ],
   "source": [
    "for ix in [1,9,13,56,17,70,2,33,32]:\n",
    "    print(train_inp[ix], end='\\n\\n')"
   ]
  }
 ],
 "metadata": {
  "kernelspec": {
   "display_name": "Python 3",
   "language": "python",
   "name": "python3"
  },
  "language_info": {
   "codemirror_mode": {
    "name": "ipython",
    "version": 3
   },
   "file_extension": ".py",
   "mimetype": "text/x-python",
   "name": "python",
   "nbconvert_exporter": "python",
   "pygments_lexer": "ipython3",
   "version": "3.6.3"
  }
 },
 "nbformat": 4,
 "nbformat_minor": 2
}
