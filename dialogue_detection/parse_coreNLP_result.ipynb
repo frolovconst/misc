{
 "cells": [
  {
   "cell_type": "code",
   "execution_count": 76,
   "metadata": {},
   "outputs": [],
   "source": [
    "import re\n",
    "import subprocess"
   ]
  },
  {
   "cell_type": "code",
   "execution_count": 211,
   "metadata": {},
   "outputs": [],
   "source": [
    "def replace_all_matches_in_line(regex, line):\n",
    "    search_result = regex.search(line)\n",
    "    while search_result is not None:\n",
    "        matched_fragment = search_result[0]\n",
    "        new_fragment = matched_fragment.replace('\\\"', '\\'')\n",
    "        line = line.replace(matched_fragment, new_fragment)\n",
    "        search_result = regex.search(line)\n",
    "    return line"
   ]
  },
  {
   "cell_type": "code",
   "execution_count": 217,
   "metadata": {},
   "outputs": [],
   "source": [
    "def replace_single_quotes_in_file(path):\n",
    "    with open(path, 'r', encoding='unicode_escape') as src_file, \\\n",
    "        open(path[:-4]+'_mdf.txt', 'w', encoding='utf-8') as dst_file:\n",
    "        gen = get_file_iterator(src_file)\n",
    "        for src_line in gen:\n",
    "            quote = src_line.replace('\\'', '\\\"')\n",
    "            quote = replace_all_matches_in_line(restore_sngl_quote_re, quote)\n",
    "            dst_file.write(quote)"
   ]
  },
  {
   "cell_type": "code",
   "execution_count": 250,
   "metadata": {},
   "outputs": [],
   "source": [
    "replace_single_quotes_in_file('data/OliverTwist.txt')"
   ]
  },
  {
   "cell_type": "code",
   "execution_count": 62,
   "metadata": {},
   "outputs": [],
   "source": [
    "def get_file_iterator(file):\n",
    "    for line in file:\n",
    "        yield line #.readline()"
   ]
  },
  {
   "cell_type": "code",
   "execution_count": 247,
   "metadata": {},
   "outputs": [],
   "source": [
    "def process_line(line):\n",
    "#     print(line)\n",
    "    result = line.split('Text=\"')\n",
    "    if len(result) < 2:\n",
    "        return None\n",
    "    else:\n",
    "        result = result[1]\n",
    "    result = result.split('\", Speaker=')\n",
    "    if len(result) < 2:\n",
    "        return None\n",
    "    else:\n",
    "        speaker = result[1].split(']')[0]\n",
    "    return result[0] + ' (' + speaker + ')'"
   ]
  },
  {
   "cell_type": "code",
   "execution_count": 259,
   "metadata": {},
   "outputs": [
    {
     "name": "stdout",
     "output_type": "stream",
     "text": [
      "4046\n"
     ]
    }
   ],
   "source": [
    "with open('data/OliverTwist_mdf.txt.out', encoding='utf-8') as src_file, \\\n",
    "    open('data/quotes.txt', 'w', encoding='utf-8') as dst_file:\n",
    "    count=0\n",
    "    gen = get_file_iterator(src_file)\n",
    "    for i in gen:\n",
    "        if i.startswith('Extracted quotes:'):\n",
    "            break\n",
    "    for i in gen:\n",
    "        quote = process_line(i)\n",
    "        if quote is None:\n",
    "            continue\n",
    "#         print(quote)\n",
    "        quote += '\\n'\n",
    "        dst_file.write(quote)\n",
    "        count += 1\n",
    "#         if count > 30:\n",
    "#             break\n",
    "#         if count> 400:\n",
    "#             print(quote)\n",
    "    print(count)"
   ]
  },
  {
   "cell_type": "code",
   "execution_count": 254,
   "metadata": {},
   "outputs": [],
   "source": [
    "bashCommand = \"java -Xmx40g edu.stanford.nlp.pipeline.StanfordCoreNLP -annotators tokenize,ssplit,pos,lemma,ner,depparse,coref,quote -file x00 -outputFormat text\"\n",
    "# bashCommand = \"ls\"\n",
    "\n",
    "process = subprocess.Popen(bashCommand.split(), stdout=subprocess.PIPE)\n",
    "output, error = process.communicate()"
   ]
  },
  {
   "cell_type": "code",
   "execution_count": 252,
   "metadata": {},
   "outputs": [],
   "source": [
    "restore_sngl_quote_re = re.compile(\"([A-Za-z]\\\"[A-Za-z])|([A-Za-z][^\\.\\?!,]\\\")\")"
   ]
  },
  {
   "cell_type": "code",
   "execution_count": 157,
   "metadata": {},
   "outputs": [],
   "source": [
    "# left_qs_re = re.compile(\"\\s'\")\n",
    "# right_qs_re = re.compile(\"'\\s\")\n",
    "# left_qn_re = re.compile(\"\\n'\")\n",
    "# right_qn_re = re.compile(\"'\\n\")\n",
    "# left_qstart_re = re.compile(\"^'\")\n",
    "# reg_exes_dict = {left_qs_re: ' \"',\n",
    "#                  right_qs_re: '\" ', \n",
    "#                  left_qn_re: '\\n\"', \n",
    "#                  right_qn_re: '\"\\n', \n",
    "#                  left_qstart_re: '\"'}\n",
    "\n",
    "# def replace_single_quotes(line, reg_exes_dict):\n",
    "#     for regex in reg_exes_dict:\n",
    "#         line = regex.sub(reg_exes_dict[regex], line)\n",
    "#     return line\n",
    "\n",
    "# def replace_single_quotes_in_file(path):\n",
    "#     with open(path, 'r', encoding='unicode_escape') as src_file, \\\n",
    "#         open(path[:-4]+'_mdf.txt', 'w', encoding='utf-8') as dst_file:\n",
    "#         gen = get_file_iterator(src_file)\n",
    "#         for src_line in gen:\n",
    "#             quote = replace_single_quotes(src_line, reg_exes_dict)\n",
    "#             dst_file.write(quote)"
   ]
  }
 ],
 "metadata": {
  "kernelspec": {
   "display_name": "Python 3",
   "language": "python",
   "name": "python3"
  },
  "language_info": {
   "codemirror_mode": {
    "name": "ipython",
    "version": 3
   },
   "file_extension": ".py",
   "mimetype": "text/x-python",
   "name": "python",
   "nbconvert_exporter": "python",
   "pygments_lexer": "ipython3",
   "version": "3.6.3"
  }
 },
 "nbformat": 4,
 "nbformat_minor": 2
}
